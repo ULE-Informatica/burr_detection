{
 "cells": [
  {
   "cell_type": "markdown",
   "metadata": {},
   "source": [
    "# Code to generate the vector of the images"
   ]
  },
  {
   "cell_type": "markdown",
   "metadata": {},
   "source": [
    "## Import libraries"
   ]
  },
  {
   "cell_type": "code",
   "execution_count": 1,
   "metadata": {},
   "outputs": [],
   "source": [
    "import cv2\n",
    "import os\n",
    "import csv\n",
    "import math\n",
    "import numpy as np\n",
    "from PIL import Image\n",
    "from matplotlib import pyplot as plt\n",
    "import argparse\n",
    "from sklearn.preprocessing import PolynomialFeatures\n",
    "from sklearn import datasets, linear_model\n",
    "from skimage.morphology import disk\n",
    "import random\n",
    "import pandas as pd\n",
    "from sklearn.model_selection import train_test_split\n",
    "from sklearn import svm\n",
    "import seaborn as sns"
   ]
  },
  {
   "cell_type": "markdown",
   "metadata": {},
   "source": [
    "## Common variables"
   ]
  },
  {
   "cell_type": "code",
   "execution_count": 2,
   "metadata": {},
   "outputs": [],
   "source": [
    "original_folder = 'data/original'\n",
    "rustico_folder = 'data/rustico'\n",
    "test_folder = 'data/test'\n",
    "process_folder = 'data/process'\n",
    "\n",
    "if not os.path.exists(test_folder):\n",
    "    os.makedirs(test_folder)\n",
    "    \n",
    "if not os.path.exists(process_folder):\n",
    "    os.makedirs(process_folder)\n",
    "    \n",
    "sections_number  = 100\n",
    "sections_width  = 100\n",
    "\n",
    "seed = 45"
   ]
  },
  {
   "cell_type": "markdown",
   "metadata": {},
   "source": [
    "## Methods"
   ]
  },
  {
   "cell_type": "code",
   "execution_count": 3,
   "metadata": {},
   "outputs": [],
   "source": [
    "class Line:\n",
    "    def __init__(self, m, n):\n",
    "        if (m==0):\n",
    "            m=1\n",
    "        self.m = m\n",
    "        self.n = n\n",
    "        self.y1 = 0\n",
    "        self.x1 = int((self.y1 - self.n) /self.m)\n",
    "        self.y2 = 100\n",
    "        self.x2 = int((self.y2 - self.n) /self.m)\n",
    "\n",
    "    def distance(self, x0, y0):\n",
    "        return abs((self.A*x0+self.B*y0+self.C)/(math.sqrt(self.A**2+self.B**2)))\n"
   ]
  },
  {
   "cell_type": "code",
   "execution_count": 4,
   "metadata": {},
   "outputs": [],
   "source": [
    "def potentialImage(img,width,from_section,to_section,number_sections):\n",
    "    dim_width = int(img.shape[0]/width)\n",
    "    dim_heigth = int(img.shape[1])\n",
    "    from_width = dim_width*(max(from_section-number_sections,0))\n",
    "    to_width = dim_width*(min(to_section+number_sections,width-1))\n",
    "    return img[from_width:to_width+dim_width,:]\n",
    "\n",
    "def sections(img, width=1, heigth=1):\n",
    "    sections_list = []\n",
    "    dim_width = int(img.shape[0]/width)\n",
    "    dim_heigth = int(img.shape[1]/heigth)\n",
    "    total_pixels_section = dim_width*dim_heigth\n",
    "    for i in range(0,width):\n",
    "        for j in range(0,heigth):\n",
    "            pos_width = dim_width*i\n",
    "            pos_heigth = dim_heigth*j\n",
    "            img_cut=img[pos_width:pos_width+dim_width,pos_heigth:pos_heigth+dim_heigth]\n",
    "            sections_list.append((np.count_nonzero(img_cut == 255)*100)/total_pixels_section)\n",
    "    return sections_list\n",
    "\n",
    "def potentialSections(section_list):\n",
    "    selection = []\n",
    "    for i in range(0,len(section_list)-1):\n",
    "        diff = abs(section_list[i] - section_list[i+1])\n",
    "        if(diff>5):\n",
    "            if(i not in selection):\n",
    "                selection.append(i)\n",
    "            selection.append(i+1)\n",
    "\n",
    "    groups = []\n",
    "    groups_diff = []\n",
    "    for i in range(0, len(selection)-1):\n",
    "        diff = abs(selection[i] - selection[i+1])\n",
    "        if len(groups)==0 or (diff>5):\n",
    "            group = []\n",
    "            groups.append(group)\n",
    "            group_diff = []\n",
    "            groups_diff.append(group_diff)\n",
    "        group = groups[-1]\n",
    "        if (diff<5) and selection[i] not in group:\n",
    "            group.append(selection[i])\n",
    "        group.append(selection[i+1])\n",
    "        diff_v = abs(section_list[selection[i]] - section_list[selection[i+1]])\n",
    "        group_diff = groups_diff[-1]\n",
    "        if (diff<5):\n",
    "            group_diff.append(diff_v)\n",
    "\n",
    "    max_value=0\n",
    "    max_group = 0\n",
    "    for i in range(0,len(groups_diff)):\n",
    "        max_v = max(groups_diff[i])\n",
    "        if max_v>max_value:\n",
    "            max_value = max_v\n",
    "            max_group = i\n",
    "    if len(groups)>0:\n",
    "        potentialGroup = groups[max_group]\n",
    "    else:\n",
    "        potentialGroup = []\n",
    "    return [selection, potentialGroup]\n",
    "\n",
    "def polynomial(X,y,degree):\n",
    "    try:\n",
    "        reg = linear_model.LinearRegression().fit(X, y)\n",
    "        line = Line(reg.coef_[0], reg.intercept_)\n",
    "    except ValueError:\n",
    "        if y[0] == y[-1]:\n",
    "            line = Line(1, 0)\n",
    "        else:\n",
    "            m = (y[-1]-y[0])/(X[-1]-X[0])\n",
    "            n = -((X[0]*(y[-1]-y[0]))/(X[-1]-X[0]))+y[0]\n",
    "            line = Line(m, n)\n",
    "    return line"
   ]
  },
  {
   "cell_type": "code",
   "execution_count": 5,
   "metadata": {},
   "outputs": [],
   "source": [
    "def regionOfInterest(img_name, original_img, img, plot =False, disk_size = 67):\n",
    "    \n",
    "    #Morphology\n",
    "    kernel = disk(disk_size)\n",
    "    closing = cv2.morphologyEx(img, cv2.MORPH_CLOSE, kernel)\n",
    "\n",
    "    #Percentage of white pixels and potential section\n",
    "    section_list = sections(closing,sections_number)\n",
    "    selection, potential_sections = potentialSections(section_list)\n",
    "    if len(potential_sections)>0:\n",
    "        section_list_np = np.asarray(section_list).astype(np.float)\n",
    "        potential_section = section_list_np[selection]\n",
    "        potential_values = section_list_np[potential_sections]\n",
    "        #Potential image\n",
    "        img_potential = potentialImage(original_img,sections_number,potential_sections[0],potential_sections[-1],3)\n",
    "        img_potential_RUSTICO = potentialImage(img,sections_number,potential_sections[0],potential_sections[-1],3)\n",
    "        cv2.imwrite(os.path.join(process_folder, img_name+'_potential.jpg'),cv2.cvtColor(img_potential, cv2.COLOR_BGR2RGB))\n",
    "        cv2.imwrite(os.path.join(process_folder, img_name+'_potential.png'),img_potential_RUSTICO)\n",
    "        \n",
    "        if plot:\n",
    "            #Plot process\n",
    "            f, axs = plt.subplots(1,5,figsize=(20,3))\n",
    "            axs[0].imshow(original_img)\n",
    "            axs[0].axis('off')\n",
    "            axs[0].title.set_text('Original')\n",
    "            axs[1].imshow(img, cmap='gray')\n",
    "            axs[1].axis('off')\n",
    "            axs[1].title.set_text('RUSTICO')\n",
    "            axs[2].imshow(closing, cmap='gray')\n",
    "            axs[2].axis('off')\n",
    "            axs[2].title.set_text('Morphological operations')\n",
    "            axs[3].plot( range(0,sections_number), section_list, '.')\n",
    "            axs[3].plot( selection, potential_section, '+')\n",
    "            axs[3].plot( potential_sections, potential_values, '*')\n",
    "            axs[3].title.set_text('Study of white pixel percetage')\n",
    "            axs[3].set_ylabel('White pixel percetage')\n",
    "            axs[4].imshow(img_potential)\n",
    "            axs[4].axis('off')\n",
    "            axs[4].title.set_text('Potential image')\n",
    "            plt.savefig(os.path.join(process_folder, img_name+'_process.jpg'), dpi=200)\n",
    "            plt.close('all')\n",
    "    \n",
    "        return [img_potential, img_potential_RUSTICO]    \n",
    "    else:\n",
    "        return [None, None]"
   ]
  },
  {
   "cell_type": "code",
   "execution_count": 6,
   "metadata": {},
   "outputs": [],
   "source": [
    "def processRegion(img_name, img_potential, img_potential_RUSTICO, plot=False, kernel_size=(31,79)):\n",
    "    #Morphology (potential image)\n",
    "    kernel = np.ones(kernel_size ,np.uint8)\n",
    "    closing_potential = cv2.dilate(img_potential_RUSTICO,kernel,iterations = 1)\n",
    "\n",
    "    #Add borders and morhpology\n",
    "    section_list = sections(closing_potential,10)\n",
    "    widthMask = closing_potential.shape[1]\n",
    "    heightMask = closing_potential.shape[0]\n",
    "    if section_list[0]>0.5:\n",
    "        mask1 = np.ones((10, widthMask), np.uint8)*255\n",
    "        mask2 = np.zeros((10, widthMask), np.uint8)\n",
    "    else:\n",
    "        mask1 = np.zeros((10, widthMask), np.uint8)\n",
    "        mask2 = np.ones((10, widthMask), np.uint8)*255\n",
    "    mask3 = np.ones((heightMask + 20, 10), np.uint8)*255\n",
    "\n",
    "    closing_mask = np.vstack((mask1, closing_potential))\n",
    "    closing_mask = np.vstack((closing_mask, mask2))\n",
    "    closing_mask = np.hstack((mask3, closing_mask))\n",
    "    closing_mask = np.hstack((closing_mask, mask3))\n",
    "    closing_mask = cv2.morphologyEx(closing_mask, cv2.MORPH_CLOSE, kernel)\n",
    "    contours, hierarchy = cv2.findContours(closing_mask, cv2.RETR_EXTERNAL, cv2.CHAIN_APPROX_NONE)\n",
    "    for cnt in contours:\n",
    "        added_image = cv2.fillPoly(closing_mask, [cnt], (255))\n",
    "    closing_mask = closing_mask[10:-10,10:-10]\n",
    "\n",
    "    #Potential image and mask\n",
    "    image_mask = cv2.bitwise_not(closing_mask)\n",
    "    img2 = cv2.merge((image_mask,image_mask,image_mask))\n",
    "    added_image = cv2.addWeighted(img2,0.1,img_potential,0.4,0)\n",
    "\n",
    "    #rectangle\n",
    "    heigths = []\n",
    "    sections_list = []\n",
    "    final = []\n",
    "    for i in range(0,sections_width):\n",
    "        dim_heigth = int(closing_mask.shape[1]/sections_width)\n",
    "        closing1 = closing_mask[:, i*dim_heigth:(i+1)*dim_heigth]\n",
    "        contours, hierarchy = cv2.findContours(closing1, cv2.RETR_EXTERNAL, cv2.CHAIN_APPROX_NONE)\n",
    "        img2 = cv2.merge((closing1,closing1,closing1))\n",
    "        if(len(contours)>0):\n",
    "            cnt = contours[0]\n",
    "            area_max = 0\n",
    "            for cn in contours:\n",
    "                area = cv2.contourArea(cn)\n",
    "                if area > area_max:\n",
    "                    area_max = area\n",
    "                    cnt = cn\n",
    "            hull = cv2.convexHull(cnt)\n",
    "            x,y,w,h = cv2.boundingRect(cnt)\n",
    "            heigths.append(h)\n",
    "            cut1 = closing1[x:x+w, y:y+h]\n",
    "            total_pixels_section = w*h\n",
    "            sections_list.append((np.count_nonzero(cut1 == 255)*100)/total_pixels_section)\n",
    "            img2 = cv2.drawContours(img2, [cnt], -1, (0,255,0), 2)\n",
    "            img2 = cv2.rectangle(img2,(x,y),(x+w,y+h),(255,0,0),2)\n",
    "            if len(final) ==0:\n",
    "                final = img2.copy()\n",
    "            else:\n",
    "                final = np.hstack((final,img2))\n",
    "\n",
    "    if plot:\n",
    "        #Plot potential image process\n",
    "        f, axs = plt.subplots(6,1,figsize=(15,10))\n",
    "        axs[0].imshow(img_potential)\n",
    "        axs[0].axis('off')\n",
    "        axs[0].title.set_text('Original')\n",
    "        axs[1].imshow(img_potential_RUSTICO, cmap='gray')\n",
    "        axs[1].axis('off')\n",
    "        axs[1].title.set_text('RUSTICO')\n",
    "        axs[2].imshow(closing_potential, cmap='gray')\n",
    "        axs[2].axis('off')\n",
    "        axs[2].title.set_text('Morphological operations')\n",
    "        axs[3].imshow(closing_mask, cmap='gray')\n",
    "        axs[3].axis('off')\n",
    "        axs[3].title.set_text('Morphological operations')\n",
    "        axs[4].imshow(added_image)\n",
    "        axs[4].axis('off')\n",
    "        axs[4].title.set_text('Final result')\n",
    "        axs[5].imshow(final)\n",
    "        axs[5].axis('off')\n",
    "        axs[5].title.set_text('Final result')\n",
    "        plt.savefig(os.path.join(process_folder, img_name+'_potential_process.jpg'), dpi=200)\n",
    "        plt.close('all')\n",
    "    \n",
    "    return  [heigths, sections_list]"
   ]
  },
  {
   "cell_type": "markdown",
   "metadata": {},
   "source": [
    "## Grid search to choose the best parameters"
   ]
  },
  {
   "cell_type": "code",
   "execution_count": 7,
   "metadata": {},
   "outputs": [
    {
     "name": "stdout",
     "output_type": "stream",
     "text": [
      "56 images for grid search of 224 images in total\n"
     ]
    }
   ],
   "source": [
    "images = os.listdir(rustico_folder)\n",
    "random.Random(seed).shuffle(images)\n",
    "size_test = int(len(images)/4)\n",
    "print(str(size_test)+\" images for grid search of \"+str(len(images))+\" images in total\")"
   ]
  },
  {
   "cell_type": "code",
   "execution_count": 8,
   "metadata": {},
   "outputs": [],
   "source": [
    "for disk_size in [47,53,67]:\n",
    "    for kernel_size in [(79,79), (31,79), (79,31)]:\n",
    "        csv_file=os.path.join(test_folder, 'info_h_'+str(sections_width)+\"_\"+str(disk_size)+\"_\"+str(kernel_size[0])+\"_\"+str(kernel_size[1])+'.csv')\n",
    "        data_file = open(csv_file, \"w\", newline=\"\",encoding=\"utf-8\")\n",
    "        data_file.close()\n",
    "        headers = ['img_name','folder','image']  + ['h_'+str(i) for i in range(1,sections_width+1)] + ['pw_'+str(i) for i in range(1,sections_width+1)]\n",
    "        with open(csv_file, mode='a+', newline=\"\",encoding=\"utf-8\") as data_file:\n",
    "            data_writer = csv.writer(data_file, delimiter=';', quotechar='\"', quoting=csv.QUOTE_MINIMAL)\n",
    "            data_writer.writerow(headers)\n",
    "\n",
    "        for image in images[0:size_test]:\n",
    "            if image.endswith('.png'):\n",
    "                dir = os.path.join(rustico_folder, image)\n",
    "                img_name = image[:-4]\n",
    "                folder_pieza = img_name[:8]\n",
    "                img_pieza = img_name[9:]\n",
    "                #print(img_name)        \n",
    "                original_img =  np.array(Image.open(os.path.join(original_folder, folder_pieza+\"_\"+img_pieza+'.jpg')))\n",
    "                img = cv2.imread(os.path.join(rustico_folder, image), cv2.IMREAD_GRAYSCALE)\n",
    "                img_potential, img_potential_RUSTICO = regionOfInterest(img_name, original_img, img, disk_size = disk_size)\n",
    "\n",
    "                \n",
    "                if img_potential is not None:            \n",
    "                    heights, sections_list = processRegion(img_name, img_potential, img_potential_RUSTICO, kernel_size=kernel_size)   \n",
    "                    \n",
    "                    if len(heights)==sections_width:\n",
    "                        data_final = [img_name, int(folder_pieza[-2:]), int(img_pieza[4:])] + heights + sections_list\n",
    "                        with open(csv_file, mode='a+', newline=\"\",encoding=\"utf-8\") as data_file:\n",
    "                            data_writer = csv.writer(data_file, delimiter=';', quotechar='\"', quoting=csv.QUOTE_MINIMAL)\n",
    "                            data_writer.writerow(data_final)\n"
   ]
  },
  {
   "cell_type": "code",
   "execution_count": 9,
   "metadata": {},
   "outputs": [],
   "source": [
    "data_category = pd.read_csv('data/info_category.csv', delimiter=';', decimal=\".\") "
   ]
  },
  {
   "cell_type": "code",
   "execution_count": 10,
   "metadata": {},
   "outputs": [],
   "source": [
    "def prepare_data(file_name, data_category):\n",
    "    data = pd.read_csv(file_name, delimiter=';', decimal=\".\") \n",
    "    data = data_category.merge(data, left_on=['img_name','folder','image'], right_on=['img_name','folder','image'])\n",
    "    data[['category']] =  data[['category']]-1\n",
    "    return data"
   ]
  },
  {
   "cell_type": "code",
   "execution_count": 11,
   "metadata": {},
   "outputs": [],
   "source": [
    "csv_file=os.path.join(test_folder, 'grid_search.csv')"
   ]
  },
  {
   "cell_type": "code",
   "execution_count": 12,
   "metadata": {},
   "outputs": [],
   "source": [
    "csv_file=os.path.join(test_folder, 'grid_search.csv')\n",
    "data_file = open(csv_file, \"w\", newline=\"\",encoding=\"utf-8\")\n",
    "data_file.close()\n",
    "headers = ['file','disk_size','kernel_size1', 'kernel_size2', 'accuracy']\n",
    "with open(csv_file, mode='a+', newline=\"\",encoding=\"utf-8\") as data_file:\n",
    "    data_writer = csv.writer(data_file, delimiter=';', quotechar='\"', quoting=csv.QUOTE_MINIMAL)\n",
    "    data_writer.writerow(headers)\n",
    "\n",
    "for file_name in os.listdir(test_folder):\n",
    "    if file_name.startswith('info'):\n",
    "        data = prepare_data(os.path.join(test_folder,file_name), data_category)\n",
    "        info = file_name[:-4].split(\"_\")\n",
    "        X_values = data[['h_'+str(a) for a in range(1,int(info[2])+1)]]\n",
    "        y_values = data[['category']]\n",
    "        X_train, X_test, y_train, y_test = train_test_split(X_values, y_values, test_size=0.2, random_state=seed)\n",
    "\n",
    "        clf = svm.SVC(random_state=seed)\n",
    "        clf.fit(X_train, y_train.values.ravel())\n",
    "        mean_accuracy = clf.score(X_test, y_test.values.ravel())\n",
    "\n",
    "        data_final = [file_name, info[3], info[4], info[5], mean_accuracy]\n",
    "        with open(csv_file, mode='a+', newline=\"\",encoding=\"utf-8\") as data_file:\n",
    "            data_writer = csv.writer(data_file, delimiter=';', quotechar='\"', quoting=csv.QUOTE_MINIMAL)\n",
    "            data_writer.writerow(data_final)"
   ]
  },
  {
   "cell_type": "code",
   "execution_count": 13,
   "metadata": {},
   "outputs": [],
   "source": [
    "data_grid = pd.read_csv(csv_file, delimiter=';', decimal=\".\") \n",
    "matrix = []\n",
    "\n",
    "for disk_size in [47,53,67]:\n",
    "    row = []\n",
    "    matrix.append(row)\n",
    "    for kernel_size in [(79,79), (31,79), (79,31)]:\n",
    "        index = np.where((data_grid['disk_size'] == disk_size) & (data_grid['kernel_size1'] == kernel_size[0]) & (data_grid['kernel_size2'] == kernel_size[1]))[0][0]        \n",
    "        row.append(data_grid.iloc[index]['accuracy'])"
   ]
  },
  {
   "cell_type": "code",
   "execution_count": 14,
   "metadata": {},
   "outputs": [
    {
     "data": {
      "image/png": "[encoded data removed]",
      "text/plain": [
       "<Figure size 576x576 with 2 Axes>"
      ]
     },
     "metadata": {
      "needs_background": "light"
     },
     "output_type": "display_data"
    }
   ],
   "source": [
    "import matplotlib\n",
    "matplotlib.rcParams.update({'font.size': 22})\n",
    "fig, ax = plt.subplots(figsize=(8,8))\n",
    "ax = sns.heatmap(matrix, cmap=\"YlGnBu\", yticklabels=[47,53,67], xticklabels=['79x79','31x79', '79x31'], annot=True, fmt=\".2\")\n",
    "\n",
    "plt.title('Grid search of parameters') \n",
    "plt.ylabel('Disk size') \n",
    "plt.xlabel('Kernel size') \n",
    "\n",
    "plt.savefig('grid_search_parameters.jpg', dpi=200)\n",
    "plt.show()"
   ]
  },
  {
   "cell_type": "markdown",
   "metadata": {},
   "source": [
    "## Generate vector"
   ]
  },
  {
   "cell_type": "code",
   "execution_count": 15,
   "metadata": {},
   "outputs": [],
   "source": [
    "disk_size = 67\n",
    "kernel_size1= 31\n",
    "kernel_size2 = 79"
   ]
  },
  {
   "cell_type": "code",
   "execution_count": 16,
   "metadata": {},
   "outputs": [],
   "source": [
    "#sections_number = 100\n",
    "for sections_width in range(10,110,10):\n",
    "    csv_file='data/info_h_'+str(sections_width)+'.csv'\n",
    "    data_file = open(csv_file, \"w\", newline=\"\",encoding=\"utf-8\")\n",
    "    data_file.close()\n",
    "    headers = ['img_name','folder','image']  + ['h_'+str(i) for i in range(1,sections_width+1)] + ['pw_'+str(i) for i in range(1,sections_width+1)]\n",
    "    with open(csv_file, mode='a+', newline=\"\",encoding=\"utf-8\") as data_file:\n",
    "        data_writer = csv.writer(data_file, delimiter=';', quotechar='\"', quoting=csv.QUOTE_MINIMAL)\n",
    "        data_writer.writerow(headers)\n",
    "        \n",
    "    for image in os.listdir(rustico_folder):\n",
    "        if image.endswith('.png'):\n",
    "            dir = os.path.join(rustico_folder, image)\n",
    "            img_name = image[:-4]\n",
    "            folder_pieza = img_name[:8]\n",
    "            img_pieza = img_name[9:]\n",
    "            #print(img_name)        \n",
    "            original_img =  np.array(Image.open(os.path.join(original_folder, folder_pieza+\"_\"+img_pieza+'.jpg')))\n",
    "            img = cv2.imread(os.path.join(rustico_folder, image), cv2.IMREAD_GRAYSCALE)\n",
    "            img_potential, img_potential_RUSTICO = regionOfInterest(img_name, original_img, img, disk_size = disk_size)\n",
    "\n",
    "            if img_potential is not None:            \n",
    "                heights, sections_list = processRegion(img_name, img_potential, img_potential_RUSTICO, kernel_size=(kernel_size1,kernel_size2))   \n",
    "\n",
    "                if len(heights)==sections_width:\n",
    "                    data_final = [img_name, int(folder_pieza[-2:]), int(img_pieza[4:])] + heights + sections_list\n",
    "                    with open(csv_file, mode='a+', newline=\"\",encoding=\"utf-8\") as data_file:\n",
    "                        data_writer = csv.writer(data_file, delimiter=';', quotechar='\"', quoting=csv.QUOTE_MINIMAL)\n",
    "                        data_writer.writerow(data_final)"
   ]
  }
 ],
 "metadata": {
  "kernelspec": {
   "display_name": "Python 3",
   "language": "python",
   "name": "python3"
  },
  "language_info": {
   "codemirror_mode": {
    "name": "ipython",
    "version": 3
   },
   "file_extension": ".py",
   "mimetype": "text/x-python",
   "name": "python",
   "nbconvert_exporter": "python",
   "pygments_lexer": "ipython3",
   "version": "3.7.8"
  }
 },
 "nbformat": 4,
 "nbformat_minor": 4
}
